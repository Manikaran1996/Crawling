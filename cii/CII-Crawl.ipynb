{
 "cells": [
  {
   "cell_type": "code",
   "execution_count": 1,
   "metadata": {},
   "outputs": [],
   "source": [
    "import urllib.request\n",
    "import pandas as pd\n",
    "from bs4 import BeautifulSoup"
   ]
  },
  {
   "cell_type": "code",
   "execution_count": 2,
   "metadata": {},
   "outputs": [],
   "source": [
    "url = 'http://www.cii.in/CII_Past_presidents.aspx'\n",
    "\n",
    "page = urllib.request.urlopen(url).read()"
   ]
  },
  {
   "cell_type": "code",
   "execution_count": 3,
   "metadata": {},
   "outputs": [],
   "source": [
    "bs = BeautifulSoup(page, 'html.parser')"
   ]
  },
  {
   "cell_type": "code",
   "execution_count": 4,
   "metadata": {},
   "outputs": [],
   "source": [
    "details = bs.find_all('p', {'class':'margin_left5'})\n",
    "#years = bs.find_all('span', {'class':'text-noline'})"
   ]
  },
  {
   "cell_type": "code",
   "execution_count": 5,
   "metadata": {},
   "outputs": [
    {
     "name": "stdout",
     "output_type": "stream",
     "text": [
      "0 ['Ms. Shobana Kamineni', 'Immediate Past President, CII (2017-18) & Executive Vice Chairperson, Apollo Hospitals Enterprise Limited']\n",
      "1 ['Dr. Naushad Forbes', 'Past President, CII (2016-17) & Co-Chairman, Forbes Marshall']\n",
      "2 ['Mr. Sumit Mazumder', 'Past President, CII (2015-2016)Chairman & Managing Director, TIL Limited']\n",
      "3 ['Mr. Ajay S. Shriram', 'Past President, CII (2014-2015)Chairman & Senior Managing Director - DCM Shriram Limited']\n",
      "4 ['Mr S Gopalakrishnan', 'Past President, CII (2013-2014)Former Non-Executive Vice Chairman - Infosys Limited']\n",
      "5 ['Mr Adi Godrej', 'President, CII (2012-13)     Chairman, Godrej Group - Godrej Industries Limited']\n",
      "6 ['Mr B Muthuraman', 'President, CII (2011-12) Former Vice Chairman - Tata Steel Limited']\n",
      "7 ['Mr Hari S Bhartia', 'President, CII (2010-11)  Co-Chairman & Managing Director - Jubilant Life Sciences Limited']\n",
      "8 ['Mr Venu Srinivasan', 'President, CII (2009-10)\\tChairman - \\tSundaram-Clayton Limited']\n",
      "9 ['Mr K. V  Kamath', 'President, CII (2008-09) \\tChairman - ICICI Bank Limited']\n",
      "10 ['Mr Sunil Bharti Mittal', 'President, CII (2007-08) Chairman - Bharti Enterprises Limited']\n",
      "11 ['Mr R Seshasayee', 'President, CII (2006-07)  Executive Vice Chairman - Hinduja Group']\n",
      "12 ['Mr Y C Deveshwar', 'President, CII (2005-06)', 'Chairman - ITC Limited']\n",
      "13 ['Mr Sunil Kant Munjal', 'President, CII (2004-05)', 'Chairman - Hero Corporate Service Limited']\n",
      "14 ['Mr Anand G Mahindra', 'President, CII (2003-04)', 'Chairman & Managing Director - Mahindra & Mahindra Limited']\n",
      "15 ['Mr Ashok Soota', 'President, CII (2002-03)', 'Executive Chairman - Happiest Minds Technologies Private Limited']\n",
      "16 ['Mr Sanjiv Goenka', 'President, CII (2001-02)', 'Chairman - RP-Sanjiv Goenka Group']\n",
      "17 ['Mr Arun Bharat Ram', 'President, CII (2000-01)', 'Chairman  - SRF Limited']\n",
      "18 ['Mr Rahul Bajaj', 'President, CII (1999-2000) and President, AIEI (1979-80)', 'Chairman  - Bajaj Auto Limited']\n",
      "19 ['Mr Rajesh Shah', 'President, CII (1998-99)', 'Co-Chairman & Managing Director - Mukand Limited']\n",
      "20 ['Mr N Kumar', 'President, CII (1997-98)', 'Vice Chairman - The Sanmar Group']\n",
      "21 ['Mr Shekhar Datta', 'President, CII (1996-97) Director - Wockhardt Limited']\n",
      "22 ['Mr Rajive Kaul', 'President, CII (1995-96)', 'Chairman - Nicco Corporation Limited']\n",
      "23 ['Mr Subodh Bhargava', 'President, CII (1994-95)', 'Chairman - Tata Communications Limited']\n",
      "24 ['Mr Jamshyd N Godrej', 'President, CII (1993-94)', 'Chairman & Managing Director - Godrej & Boyce Manufacturing Company Limited']\n",
      "25 ['Dr Jamshed J Irani', 'President, CII (1992-93)', 'Chairman - Tata Iron and Steel Co. Limited']\n",
      "26 ['Mr Dhruv M Sawhney', 'President, CII (1991-92)', 'Chairman & Managing Director - Triveni Engineering & Industries Limited']\n",
      "27 ['Mr V Srinivasan', 'President, CEI (1990-91)', 'Chairman - W.S. Industries (India) Limited']\n",
      "28 ['Mr J P Chowdhary', 'President, CEI (1989-90)', 'Chairman  - Titagarh Wagons Limited']\n",
      "29 ['Mr Brijmohan Lall Munjal', 'President, CEI (1988-89)', 'Chairman - Hero MotoCorp Limited']\n",
      "30 ['Mr Suresh Krishna', 'President, CEI (1987-88)', 'Chairman & Managing Director - Sundram Fasteners Limited']\n",
      "31 ['Mr K N Shenoy', 'President, AIEI/CEI (1986-87)', 'Chairman - Asea Brown Boveri Limited']\n",
      "32 ['Mr Ramesh Maheshwari', 'President, AIEI (1985-86)', 'Executive Vice Chairman - Texmaco Rail & Engineering Limited']\n",
      "33 ['Dr Gurpreet Singh', 'President, AIEI (1984-85)', 'Chairman & Managing Director - Continental Device India Limited']\n",
      "34 ['Mr M V Subbiah', 'President, AIEI (1983-84)', 'Managing Trustee - AMM Foundation (Murugappa Group)']\n",
      "35 ['Mr Vinod L Doshi', 'President, AIEI (1982-83)', 'Chairman - The Premier Automobiles Limited']\n",
      "36 ['Mr T D Sinha', 'President, AIEI (1981-82)', 'Managing Director - Indian Aluminium Co Limited']\n",
      "37 ['Mr Manmohan Singh', 'President, AIEI (1980-81) & Chairman & Managing Director, Frick India Limited']\n",
      "38 ['Mr R J Shahaney', 'President, AIEI (1978-79)', 'Chairman Emeritus - Ashok Leyland Limited']\n",
      "39 ['Mr S Santhanam', 'President, AIEI (1977-78)', 'Chairman - Super-Tech Battery Components Private Limited']\n",
      "40 ['Mr FAA Jasdanwalla', 'President, AIEI (1976-77)', 'Adamji Lookmanji and Co.']\n",
      "41 ['Mr K G Khosla', 'President, AIEI (1975-76)', 'Chairman - K G Khosla Compressors Ltd.']\n",
      "42 ['Mr P K Nanda', 'Founder President, AIEI (1974-75)', 'Chairman  - Vascular Concepts Group']\n"
     ]
    }
   ],
   "source": [
    "presidents = []\n",
    "for i,pres in enumerate(details):\n",
    "    presDetail = []\n",
    "    temp = pres.text.strip().split('\\n')\n",
    "    for entry in temp:\n",
    "        if entry.strip() != '':\n",
    "            presDetail.append(entry.strip())\n",
    "    presidents.append(presDetail)\n",
    "    print(i,presDetail)"
   ]
  },
  {
   "cell_type": "code",
   "execution_count": 6,
   "metadata": {},
   "outputs": [],
   "source": [
    "ciiPresDf = pd.DataFrame(presidents)"
   ]
  },
  {
   "cell_type": "code",
   "execution_count": 7,
   "metadata": {},
   "outputs": [],
   "source": [
    "ciiPresDf.to_csv('cii.csv')"
   ]
  },
  {
   "cell_type": "code",
   "execution_count": null,
   "metadata": {},
   "outputs": [],
   "source": []
  }
 ],
 "metadata": {
  "kernelspec": {
   "display_name": "Python 3",
   "language": "python",
   "name": "python3"
  },
  "language_info": {
   "codemirror_mode": {
    "name": "ipython",
    "version": 3
   },
   "file_extension": ".py",
   "mimetype": "text/x-python",
   "name": "python",
   "nbconvert_exporter": "python",
   "pygments_lexer": "ipython3",
   "version": "3.6.4"
  }
 },
 "nbformat": 4,
 "nbformat_minor": 2
}
