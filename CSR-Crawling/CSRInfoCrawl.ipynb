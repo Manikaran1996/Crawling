{
 "cells": [
  {
   "cell_type": "code",
   "execution_count": 3,
   "metadata": {},
   "outputs": [],
   "source": [
    "import requests\n",
    "import pandas as pd\n",
    "from bs4 import BeautifulSoup\n",
    "import os\n",
    "from collections import defaultdict"
   ]
  },
  {
   "cell_type": "code",
   "execution_count": 7,
   "metadata": {},
   "outputs": [],
   "source": [
    "state_districtsDf = pd.read_csv('districts_updated.csv', index_col=None)"
   ]
  },
  {
   "cell_type": "code",
   "execution_count": 92,
   "metadata": {},
   "outputs": [],
   "source": [
    "folder='CSR Year 2016-17'"
   ]
  },
  {
   "cell_type": "code",
   "execution_count": 23,
   "metadata": {},
   "outputs": [],
   "source": [
    "def get_csr_data(state, district, year='FY 2016-17'):\n",
    "    print(state, district)\n",
    "    url = 'https://csr.gov.in/CSR/companylist.php?compCat=&year={}&district={}&state={}&mact=&csr_spent_range='.format(year, district, state)\n",
    "    page = requests.get(url).text\n",
    "    soup = BeautifulSoup(page, 'html.parser')\n",
    "    amount = 0\n",
    "    data = []\n",
    "    rows = soup.findAll('tr')\n",
    "    for row in rows[1:]:\n",
    "        row_data = []\n",
    "        columns = row.findAll('td')\n",
    "        if len(columns) != 3:\n",
    "            continue\n",
    "        for col in columns:\n",
    "            row_data.append(col.text.strip())\n",
    "        data.append(row_data)\n",
    "        amount += float(row_data[-1].replace(',',''))\n",
    "    return data,amount"
   ]
  },
  {
   "cell_type": "code",
   "execution_count": 33,
   "metadata": {},
   "outputs": [],
   "source": [
    "\n",
    "for i in range(state_districtsDf.shape[0]):\n",
    "    total_csr_spent = {}\n",
    "    temp = list(state_districtsDf.iloc[i,:])\n",
    "    state = temp[0]\n",
    "    districts = []\n",
    "    os.system('mkdir \"{}/{}\"'.format(folder,state))\n",
    "    district_csr_spent = {} \n",
    "    for district in temp[1:]:\n",
    "        if pd.isna(district):\n",
    "            break\n",
    "        data, amount = get_csr_data(state, district)\n",
    "        district_details_df = pd.DataFrame(data, columns=['SNo.', 'company', 'amount'])\n",
    "        district_details_df.to_csv(folder + '/' + state + '/' + district + '.csv')\n",
    "        district_csr_spent[district] = amount\n",
    "    total_csr_spent[state] = district_csr_spent \n",
    "    total_df = pd.DataFrame.from_dict(total_csr_spent)\n",
    "    total_df.to_csv(folder + '/' + state + '/' + 'Z_total.csv')\n",
    "\n",
    "def get_companies(folder_name):\n",
    "    companies = defaultdict(int)\n",
    "    for i in range(state_districtsDf.shape[0]):\n",
    "        state = state_districtsDf.iloc[i][0]\n",
    "        districts = list(state_districtsDf.iloc[i][1:])\n",
    "        for district in districts:\n",
    "            if pd.isna(district):\n",
    "                break\n",
    "            file_name = folder_name + '/' + state + '/' + district + '.csv'\n",
    "            dataFrame = pd.read_csv(file_name, usecols=['company', 'amount'])#, usecols=['company', 'amount']) #2:company name, 3:amount\n",
    "            for i in range(dataFrame.shape[0]):\n",
    "                companies[dataFrame.loc[i,'company']] += float(str(dataFrame.loc[i, 'amount']).replace(',',''))\n",
    "    return companies"
   ]
  },
  {
   "cell_type": "code",
   "execution_count": 51,
   "metadata": {},
   "outputs": [],
   "source": [
    "companies_invested_in_csr = get_companies(folder)\n",
    "\n",
    "companies_invested_in_csrDf = pd.DataFrame.from_dict(companies_invested_in_csr, orient='index', dtype=int)\n",
    "\n",
    "companies_invested_in_csrDf.sort_values(by=0, ascending = False, inplace=True)"
   ]
  },
  {
   "cell_type": "code",
   "execution_count": 52,
   "metadata": {},
   "outputs": [],
   "source": [
    "companies_invested_in_csrDf.to_csv(folder + '/companies_with_amount.csv')"
   ]
  },
  {
   "cell_type": "markdown",
   "metadata": {},
   "source": [
    "### Need to be fetched once only\n",
    "\n",
    "from py2neo import Graph\n",
    "graph = Graph()\n",
    "\n",
    "query = 'match(c:company) return c.name as name, c.cin as CIN'\n",
    "result = graph.data(query)\n",
    "\n",
    "companies_df = pd.DataFrame.from_records(result)\n",
    "\n",
    "companies_df.to_csv('companies_in_graph_db.csv')"
   ]
  },
  {
   "cell_type": "code",
   "execution_count": 15,
   "metadata": {},
   "outputs": [],
   "source": [
    "companies_df = pd.read_csv('./companies_in_graph_db.csv')"
   ]
  },
  {
   "cell_type": "code",
   "execution_count": 17,
   "metadata": {},
   "outputs": [
    {
     "data": {
      "text/html": [
       "<div>\n",
       "<style scoped>\n",
       "    .dataframe tbody tr th:only-of-type {\n",
       "        vertical-align: middle;\n",
       "    }\n",
       "\n",
       "    .dataframe tbody tr th {\n",
       "        vertical-align: top;\n",
       "    }\n",
       "\n",
       "    .dataframe thead th {\n",
       "        text-align: right;\n",
       "    }\n",
       "</style>\n",
       "<table border=\"1\" class=\"dataframe\">\n",
       "  <thead>\n",
       "    <tr style=\"text-align: right;\">\n",
       "      <th></th>\n",
       "      <th>name</th>\n",
       "    </tr>\n",
       "  </thead>\n",
       "  <tbody>\n",
       "    <tr>\n",
       "      <th>0</th>\n",
       "      <td>3D Plm Software Solutions Limited</td>\n",
       "    </tr>\n",
       "    <tr>\n",
       "      <th>1</th>\n",
       "      <td>A K Capital Services Limited</td>\n",
       "    </tr>\n",
       "    <tr>\n",
       "      <th>2</th>\n",
       "      <td>A L M Industries Limited</td>\n",
       "    </tr>\n",
       "    <tr>\n",
       "      <th>3</th>\n",
       "      <td>A R B Bearings Limited</td>\n",
       "    </tr>\n",
       "    <tr>\n",
       "      <th>4</th>\n",
       "      <td>A V Thomas Leather &amp; Allied Products Private L...</td>\n",
       "    </tr>\n",
       "  </tbody>\n",
       "</table>\n",
       "</div>"
      ],
      "text/plain": [
       "                                                name\n",
       "0                  3D Plm Software Solutions Limited\n",
       "1                       A K Capital Services Limited\n",
       "2                           A L M Industries Limited\n",
       "3                             A R B Bearings Limited\n",
       "4  A V Thomas Leather & Allied Products Private L..."
      ]
     },
     "execution_count": 17,
     "metadata": {},
     "output_type": "execute_result"
    }
   ],
   "source": [
    "companies_invested_in_csr_df.head()"
   ]
  },
  {
   "cell_type": "code",
   "execution_count": 18,
   "metadata": {},
   "outputs": [
    {
     "data": {
      "text/html": [
       "<div>\n",
       "<style scoped>\n",
       "    .dataframe tbody tr th:only-of-type {\n",
       "        vertical-align: middle;\n",
       "    }\n",
       "\n",
       "    .dataframe tbody tr th {\n",
       "        vertical-align: top;\n",
       "    }\n",
       "\n",
       "    .dataframe thead th {\n",
       "        text-align: right;\n",
       "    }\n",
       "</style>\n",
       "<table border=\"1\" class=\"dataframe\">\n",
       "  <thead>\n",
       "    <tr style=\"text-align: right;\">\n",
       "      <th></th>\n",
       "      <th>Unnamed: 0</th>\n",
       "      <th>CIN</th>\n",
       "      <th>name</th>\n",
       "    </tr>\n",
       "  </thead>\n",
       "  <tbody>\n",
       "    <tr>\n",
       "      <th>0</th>\n",
       "      <td>0</td>\n",
       "      <td>L00000CH1983PLC031318</td>\n",
       "      <td>SAB INDUSTRIES LIMITED</td>\n",
       "    </tr>\n",
       "    <tr>\n",
       "      <th>1</th>\n",
       "      <td>1</td>\n",
       "      <td>L00000CH1990PLC010573</td>\n",
       "      <td>LAKSHMI ENERGY AND FOODS LIMITED</td>\n",
       "    </tr>\n",
       "    <tr>\n",
       "      <th>2</th>\n",
       "      <td>2</td>\n",
       "      <td>L00000HP1994PLC014770</td>\n",
       "      <td>HITKARI INDUSTRIES LIMITED</td>\n",
       "    </tr>\n",
       "    <tr>\n",
       "      <th>3</th>\n",
       "      <td>3</td>\n",
       "      <td>L00000MH1946PLC197474</td>\n",
       "      <td>QUADRANT TELEVENTURES LIMITED</td>\n",
       "    </tr>\n",
       "    <tr>\n",
       "      <th>4</th>\n",
       "      <td>4</td>\n",
       "      <td>L01100MH1996PLC100380</td>\n",
       "      <td>USHER AGRO LIMITED</td>\n",
       "    </tr>\n",
       "  </tbody>\n",
       "</table>\n",
       "</div>"
      ],
      "text/plain": [
       "   Unnamed: 0                    CIN                              name\n",
       "0           0  L00000CH1983PLC031318            SAB INDUSTRIES LIMITED\n",
       "1           1  L00000CH1990PLC010573  LAKSHMI ENERGY AND FOODS LIMITED\n",
       "2           2  L00000HP1994PLC014770        HITKARI INDUSTRIES LIMITED\n",
       "3           3  L00000MH1946PLC197474     QUADRANT TELEVENTURES LIMITED\n",
       "4           4  L01100MH1996PLC100380                USHER AGRO LIMITED"
      ]
     },
     "execution_count": 18,
     "metadata": {},
     "output_type": "execute_result"
    }
   ],
   "source": [
    "companies_df.head()"
   ]
  },
  {
   "cell_type": "code",
   "execution_count": 19,
   "metadata": {},
   "outputs": [],
   "source": [
    "companies_df.sort_values(by='name', inplace=True)"
   ]
  },
  {
   "cell_type": "code",
   "execution_count": 21,
   "metadata": {},
   "outputs": [],
   "source": [
    "companies_df = companies_df.reset_index()\n",
    "companies_df = companies_df.drop(labels = ['index'], axis=1)"
   ]
  },
  {
   "cell_type": "code",
   "execution_count": 56,
   "metadata": {},
   "outputs": [],
   "source": [
    "tempDf = companies_df.merge(companies_invested_in_csr_df, on='name', how='inner')"
   ]
  },
  {
   "cell_type": "code",
   "execution_count": 93,
   "metadata": {},
   "outputs": [],
   "source": [
    "companies_invested_in_csrDf = pd.read_csv(folder + '/companies_with_amount.csv', index_col=False)\n",
    "\n",
    "companies_without_df = pd.read_csv(folder + '/companies.csv')\n",
    "\n",
    "companies_invested_in_csrDf.columns=['name','amount']\n",
    "\n",
    "finalDf = companies_without_df.merge(companies_invested_in_csrDf, how='inner', on='name')\n",
    "\n",
    "finalDf.to_csv(folder + '/companies.csv')"
   ]
  },
  {
   "cell_type": "code",
   "execution_count": null,
   "metadata": {},
   "outputs": [],
   "source": []
  }
 ],
 "metadata": {
  "kernelspec": {
   "display_name": "Python 3",
   "language": "python",
   "name": "python3"
  },
  "language_info": {
   "codemirror_mode": {
    "name": "ipython",
    "version": 3
   },
   "file_extension": ".py",
   "mimetype": "text/x-python",
   "name": "python",
   "nbconvert_exporter": "python",
   "pygments_lexer": "ipython3",
   "version": "3.6.5"
  }
 },
 "nbformat": 4,
 "nbformat_minor": 2
}
