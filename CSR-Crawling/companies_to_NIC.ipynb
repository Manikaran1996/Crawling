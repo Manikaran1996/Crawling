{
 "cells": [
  {
   "cell_type": "code",
   "execution_count": 2,
   "metadata": {},
   "outputs": [],
   "source": [
    "import pandas as pd\n",
    "import pickle"
   ]
  },
  {
   "cell_type": "code",
   "execution_count": 3,
   "metadata": {},
   "outputs": [],
   "source": [
    "folders = ['CSR Year 2014-15/', 'CSR Year 2015-16/', 'CSR Year 2016-17/']\n",
    "file_name = 'companies.csv'"
   ]
  },
  {
   "cell_type": "code",
   "execution_count": 5,
   "metadata": {},
   "outputs": [],
   "source": [
    "fil = open('firm_to_nic_sector.p', 'rb')\n",
    "cin_to_nic = pickle.load(fil)\n",
    "fil.close()"
   ]
  },
  {
   "cell_type": "code",
   "execution_count": 16,
   "metadata": {},
   "outputs": [],
   "source": [
    "def get_nic_codes(cin_to_nic, cins):\n",
    "    nic_codes = []\n",
    "    for cin in cins:\n",
    "        if pd.isna(cin):\n",
    "            nic_codes.append(None)\n",
    "            continue\n",
    "        try:\n",
    "            nic_codes.append(cin_to_nic.get(cin, [None])[0])\n",
    "        except IndexError:\n",
    "            nic_codes.append(None)\n",
    "    return nic_codes"
   ]
  },
  {
   "cell_type": "code",
   "execution_count": 20,
   "metadata": {},
   "outputs": [
    {
     "name": "stdout",
     "output_type": "stream",
     "text": [
      "CSR Year 2014-15/\n",
      "CSR Year 2015-16/\n",
      "CSR Year 2016-17/\n"
     ]
    }
   ],
   "source": [
    "for folder in folders:\n",
    "    print(folder)\n",
    "    companyDf = pd.read_csv(folder + file_name)\n",
    "    companyDf['NIC'] = get_nic_codes(cin_to_nic, companyDf['CIN'])\n",
    "    companyDf.to_csv(folder + file_name, columns=['name', 'CIN', 'NIC'])\n"
   ]
  },
  {
   "cell_type": "code",
   "execution_count": null,
   "metadata": {},
   "outputs": [],
   "source": []
  }
 ],
 "metadata": {
  "kernelspec": {
   "display_name": "Python 3",
   "language": "python",
   "name": "python3"
  },
  "language_info": {
   "codemirror_mode": {
    "name": "ipython",
    "version": 3
   },
   "file_extension": ".py",
   "mimetype": "text/x-python",
   "name": "python",
   "nbconvert_exporter": "python",
   "pygments_lexer": "ipython3",
   "version": "3.6.5"
  }
 },
 "nbformat": 4,
 "nbformat_minor": 2
}
