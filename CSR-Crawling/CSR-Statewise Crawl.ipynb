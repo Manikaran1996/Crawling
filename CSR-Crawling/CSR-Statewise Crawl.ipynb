{
 "cells": [
  {
   "cell_type": "code",
   "execution_count": 1,
   "metadata": {},
   "outputs": [],
   "source": [
    "import requests\n",
    "from bs4 import BeautifulSoup\n",
    "import pandas as pd"
   ]
  },
  {
   "cell_type": "code",
   "execution_count": 2,
   "metadata": {},
   "outputs": [],
   "source": [
    "url = 'https://csr.gov.in/CSR/statelist.php#'"
   ]
  },
  {
   "cell_type": "code",
   "execution_count": 8,
   "metadata": {},
   "outputs": [],
   "source": [
    "page = requests.get(url).text"
   ]
  },
  {
   "cell_type": "code",
   "execution_count": 11,
   "metadata": {},
   "outputs": [],
   "source": [
    "soup = BeautifulSoup(page, 'html.parser')"
   ]
  },
  {
   "cell_type": "code",
   "execution_count": 17,
   "metadata": {},
   "outputs": [],
   "source": [
    "table = soup.find('table', attrs={'id':'comp_dev_table'})"
   ]
  },
  {
   "cell_type": "code",
   "execution_count": 19,
   "metadata": {},
   "outputs": [],
   "source": [
    "rows = table.findAll('tr')"
   ]
  },
  {
   "cell_type": "code",
   "execution_count": 32,
   "metadata": {},
   "outputs": [],
   "source": [
    "# rows[0] is the header\n",
    "data = []\n",
    "for r in rows[1:]:\n",
    "    cols = r.findAll('td')\n",
    "    vals = []\n",
    "    for i in range(2):\n",
    "        vals.append(cols[i].text)\n",
    "    for i in range(2,5):\n",
    "        vals.append(float(cols[i].text.strip().replace(',','')))\n",
    "    data.append(vals)"
   ]
  },
  {
   "cell_type": "code",
   "execution_count": 33,
   "metadata": {},
   "outputs": [
    {
     "data": {
      "text/plain": [
       "[['1', 'Andaman And Nicobar', 0.29, 0.55, 0.83],\n",
       " ['2', 'Andhra Pradesh', 414.27, 1241.97, 729.97],\n",
       " ['3', 'Arunachal Pradesh', 11.04, 1.48, 23.61],\n",
       " ['4', 'Assam', 134.78, 167.47, 268.87],\n",
       " ['5', 'Bihar', 36.68, 108.67, 94.4],\n",
       " ['6', 'Chandigarh', 1.77, 5.12, 21.3],\n",
       " ['7', 'Chhattisgarh', 161.3, 237.94, 80.36],\n",
       " ['8', 'Dadra And Nagar Haveli', 4.41, 12.02, 5.12],\n",
       " ['9', 'Daman And Diu', 20.05, 2.13, 2.63],\n",
       " ['10', 'Delhi', 237.43, 479.13, 478.63],\n",
       " ['11', 'Goa', 27.11, 30.53, 34.95],\n",
       " ['12', 'Gujarat', 313.44, 559.14, 779.88],\n",
       " ['13', 'Haryana', 187.4, 367.33, 346.56],\n",
       " ['14', 'Himachal Pradesh', 10.94, 52.35, 16.4],\n",
       " ['15', 'Jammu And Kashmir', 43.7, 103.03, 41.05],\n",
       " ['16', 'Jharkhand', 79.56, 118.17, 94.63],\n",
       " ['17', 'Karnataka', 403.46, 778.88, 843.49],\n",
       " ['18', 'Kerala', 68.23, 143.88, 117.54],\n",
       " ['19', 'Lakshadweep', 0.0, 0.3, 0.0],\n",
       " ['20', 'Madhya Pradesh', 141.88, 183.26, 282.03],\n",
       " ['21', 'Maharashtra', 1445.91, 2013.01, 2222.25],\n",
       " ['22', 'Manipur', 2.44, 6.27, 11.71],\n",
       " ['23', 'Meghalaya', 3.53, 5.62, 7.54],\n",
       " ['24', 'Mizoram', 1.03, 1.07, 0.08],\n",
       " ['25', 'Nagaland', 1.11, 0.96, 0.92],\n",
       " ['26', 'Odisha', 252.18, 618.9, 311.96],\n",
       " ['27', 'Puducherry', 2.02, 6.34, 7.48],\n",
       " ['28', 'Punjab', 55.6, 69.04, 67.19],\n",
       " ['29', 'Rajasthan', 299.75, 493.95, 318.88],\n",
       " ['30', 'Sikkim', 1.19, 1.89, 4.86],\n",
       " ['31', 'Tamil Nadu', 539.63, 615.7, 470.54],\n",
       " ['32', 'Telangana', 101.96, 254.01, 221.26],\n",
       " ['33', 'Tripura', 1.33, 1.47, 1.25],\n",
       " ['34', 'Uttar Pradesh', 148.9, 417.12, 312.74],\n",
       " ['35', 'Uttarakhand', 74.79, 72.42, 94.64],\n",
       " ['36', 'West Bengal', 194.85, 411.7, 274.7],\n",
       " ['37', 'NEC/ Not mentioned', 26.94, 0.0, 6.72],\n",
       " ['38', 'PAN India', 4614.89, 4783.26, 4867.42]]"
      ]
     },
     "execution_count": 33,
     "metadata": {},
     "output_type": "execute_result"
    }
   ],
   "source": [
    "data"
   ]
  },
  {
   "cell_type": "code",
   "execution_count": 36,
   "metadata": {},
   "outputs": [],
   "source": [
    "dataFrame = pd.DataFrame(data, columns=['Sno', 'State', 'Amount spent FY 2014-15 (in Crores)', 'Amount spent FY 2015-16 (in Crores)', 'Amount spent FY 2016-17 (in Crores)'])"
   ]
  },
  {
   "cell_type": "code",
   "execution_count": 37,
   "metadata": {},
   "outputs": [],
   "source": [
    "dataFrame.to_csv('csr_statewise.csv')"
   ]
  },
  {
   "cell_type": "code",
   "execution_count": null,
   "metadata": {},
   "outputs": [],
   "source": []
  }
 ],
 "metadata": {
  "kernelspec": {
   "display_name": "Python 3",
   "language": "python",
   "name": "python3"
  },
  "language_info": {
   "codemirror_mode": {
    "name": "ipython",
    "version": 3
   },
   "file_extension": ".py",
   "mimetype": "text/x-python",
   "name": "python",
   "nbconvert_exporter": "python",
   "pygments_lexer": "ipython3",
   "version": "3.6.5"
  }
 },
 "nbformat": 4,
 "nbformat_minor": 2
}
