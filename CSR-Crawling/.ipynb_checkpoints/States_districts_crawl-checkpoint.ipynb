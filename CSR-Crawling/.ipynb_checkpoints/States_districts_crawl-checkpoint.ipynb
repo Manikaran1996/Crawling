{
 "cells": [
  {
   "cell_type": "code",
   "execution_count": 61,
   "metadata": {},
   "outputs": [],
   "source": [
    "import requests\n",
    "from bs4 import BeautifulSoup\n",
    "from collections import defaultdict"
   ]
  },
  {
   "cell_type": "code",
   "execution_count": 55,
   "metadata": {},
   "outputs": [],
   "source": [
    "url = 'http://districts.nic.in/'\n",
    "states_ut_india_page = requests.get(url).text"
   ]
  },
  {
   "cell_type": "code",
   "execution_count": 56,
   "metadata": {},
   "outputs": [],
   "source": [
    "states_ut_india_page_soup = BeautifulSoup(states_ut_india_page, 'html.parser')"
   ]
  },
  {
   "cell_type": "code",
   "execution_count": 57,
   "metadata": {},
   "outputs": [],
   "source": [
    "div = states_ut_india_page_soup.findAll('div', attrs={'class':'uppersec'})"
   ]
  },
  {
   "cell_type": "code",
   "execution_count": 58,
   "metadata": {},
   "outputs": [
    {
     "name": "stdout",
     "output_type": "stream",
     "text": [
      "1\n"
     ]
    }
   ],
   "source": [
    "anchors = []\n",
    "print(len(div))\n",
    "for i in range(len(div)):\n",
    "    anchors = anchors + div[i].findAll('a')"
   ]
  },
  {
   "cell_type": "code",
   "execution_count": 59,
   "metadata": {},
   "outputs": [],
   "source": [
    "states_to_district_link = {}\n",
    "for a in anchors:\n",
    "    states_to_district_link[a.text] = a['href']"
   ]
  },
  {
   "cell_type": "code",
   "execution_count": 60,
   "metadata": {},
   "outputs": [
    {
     "data": {
      "text/plain": [
       "{'Andaman and Nicobar Island (UT)': 'http://districts.nic.in/districts.php?sid=AN',\n",
       " 'Andhra Pradesh': 'http://districts.nic.in/districts.php?sid=AP',\n",
       " 'Arunachal Pradesh': 'http://districts.nic.in/districts.php?sid=AR',\n",
       " 'Assam': 'http://districts.nic.in/districts.php?sid=AS',\n",
       " 'Bihar': 'http://districts.nic.in/districts.php?sid=BR',\n",
       " 'Chandigarh (UT)': 'http://districts.nic.in/districts.php?sid=CH',\n",
       " 'Chhattisgarh': 'http://districts.nic.in/districts.php?sid=CG',\n",
       " 'Dadra and Nagar Haveli (UT)': 'http://districts.nic.in/districts.php?sid=DN',\n",
       " 'Daman and Diu (UT)': 'http://districts.nic.in/districts.php?sid=DD',\n",
       " 'Delhi (NCT)': 'http://districts.nic.in/districts.php?sid=DL',\n",
       " 'Goa': 'http://districts.nic.in/districts.php?sid=GA',\n",
       " 'Gujarat': 'http://districts.nic.in/districts.php?sid=GJ',\n",
       " 'Haryana': 'http://districts.nic.in/districts.php?sid=HR',\n",
       " 'Himachal Pradesh': 'http://districts.nic.in/districts.php?sid=HP',\n",
       " 'Jammu and Kashmir': 'http://districts.nic.in/districts.php?sid=JK',\n",
       " 'Jharkhand': 'http://districts.nic.in/districts.php?sid=JH',\n",
       " 'Karnataka': 'http://districts.nic.in/districts.php?sid=KA',\n",
       " 'Kerala': 'http://districts.nic.in/districts.php?sid=KL',\n",
       " 'Lakshadweep (UT)': 'http://districts.nic.in/districts.php?sid=LD',\n",
       " 'Madhya Pradesh': 'http://districts.nic.in/districts.php?sid=MP',\n",
       " 'Maharashtra': 'http://districts.nic.in/districts.php?sid=MH',\n",
       " 'Manipur': 'http://districts.nic.in/districts.php?sid=MN',\n",
       " 'Meghalaya': 'http://districts.nic.in/districts.php?sid=ML',\n",
       " 'Mizoram': 'http://districts.nic.in/districts.php?sid=MZ',\n",
       " 'Nagaland': 'http://districts.nic.in/districts.php?sid=NL',\n",
       " 'Odisha': 'http://districts.nic.in/districts.php?sid=OR',\n",
       " 'Puducherry (UT)': 'http://districts.nic.in/districts.php?sid=PY',\n",
       " 'Punjab': 'http://districts.nic.in/districts.php?sid=PB',\n",
       " 'Rajasthan': 'http://districts.nic.in/districts.php?sid=RJ',\n",
       " 'Sikkim': 'http://districts.nic.in/districts.php?sid=SK',\n",
       " 'Tamil Nadu': 'http://districts.nic.in/districts.php?sid=TN',\n",
       " 'Telangana': 'http://districts.nic.in/districts.php?sid=TG',\n",
       " 'Tripura': 'http://districts.nic.in/districts.php?sid=TR',\n",
       " 'Uttarakhand': 'http://districts.nic.in/districts.php?sid=UK',\n",
       " 'Uttar Pradesh': 'http://districts.nic.in/districts.php?sid=UP',\n",
       " 'West Bengal': 'http://districts.nic.in/districts.php?sid=WB'}"
      ]
     },
     "execution_count": 60,
     "metadata": {},
     "output_type": "execute_result"
    }
   ],
   "source": [
    "states_to_district_link"
   ]
  },
  {
   "cell_type": "code",
   "execution_count": 47,
   "metadata": {},
   "outputs": [],
   "source": [
    "districts = defaultdict(list)"
   ]
  }
 ],
 "metadata": {
  "kernelspec": {
   "display_name": "Python 3",
   "language": "python",
   "name": "python3"
  },
  "language_info": {
   "codemirror_mode": {
    "name": "ipython",
    "version": 3
   },
   "file_extension": ".py",
   "mimetype": "text/x-python",
   "name": "python",
   "nbconvert_exporter": "python",
   "pygments_lexer": "ipython3",
   "version": "3.6.5"
  }
 },
 "nbformat": 4,
 "nbformat_minor": 2
}
