{
 "cells": [
  {
   "cell_type": "code",
   "execution_count": 4,
   "metadata": {},
   "outputs": [],
   "source": [
    "import urllib.request\n",
    "import pandas as pd\n",
    "from bs4 import BeautifulSoup"
   ]
  },
  {
   "cell_type": "code",
   "execution_count": 2,
   "metadata": {},
   "outputs": [],
   "source": [
    "url = 'http://ficci.in/about-Past-President.asp'\n",
    "\n",
    "page = urllib.request.urlopen(url).read()"
   ]
  },
  {
   "cell_type": "code",
   "execution_count": 7,
   "metadata": {},
   "outputs": [],
   "source": [
    "bs = BeautifulSoup(page, 'html.parser')"
   ]
  },
  {
   "cell_type": "code",
   "execution_count": 10,
   "metadata": {},
   "outputs": [],
   "source": [
    "names = bs.find_all('span', {'class':'text-darkgray-blueCopy'})\n",
    "years = bs.find_all('span', {'class':'text-noline'})"
   ]
  },
  {
   "cell_type": "code",
   "execution_count": 24,
   "metadata": {},
   "outputs": [],
   "source": [
    "presidents = []"
   ]
  },
  {
   "cell_type": "code",
   "execution_count": 25,
   "metadata": {},
   "outputs": [
    {
     "name": "stdout",
     "output_type": "stream",
     "text": [
      "0 Pankaj R. Patel  2016-2017\n",
      "1 Harshavardhan Neotia 2015-2016\n",
      "2 Dr. Jyotsna Suri 2014-2015\n",
      "3 Mr Sidharth Birla 2013-2014\n",
      "4 Ms Naina lal Kidwai 2012-2013\n",
      "5 Mr R V Kanoria 2011-2012\n",
      "6 Mr Harsh Mariwala  2010-2011\n",
      "7 Mr Rajan Bharti Mittal 2009-2010\n",
      "8 Mr. Harsh Pati Singhania 2008-2009\n",
      "9 Mr Rajeev Chandrasekhar  2007-2008\n",
      "10 Mr H Khorakiwala 2006-2007\n",
      "11 Mr Saroj K Poddar 2005-2006\n",
      "12 Mr Onkar S Kanwar 2004-2005\n",
      "13 Mr Y K Modi 2003-2004\n",
      "14 Dr. A C Muthiah 2002-2003\n",
      "15 Shri Rajendra S Lodha  2001-2002\n",
      "16 Shri Chirayu R Amin  2000-2001\n",
      "17 Shri G P Goenka  1999\n",
      "18 Shri Sudhir Jalan  1998\n",
      "19 Shri K K Modi  1997\n",
      "20 Shri A S Kasliwal  1996\n",
      "21 Shri Deepak Banker  1995\n",
      "22 Shri A K Rungta  1994\n",
      "23 Dr Bansi dhar 1993\n",
      "24 Shri Kantikumar R Podar  1992\n",
      "25 Dr V L Dutt  1991\n",
      "26 Shri S K Birla  1990\n",
      "27 Shri Raunaq Singh  1989\n",
      "28 Shri Rohit C Mehta  1988\n",
      "29 Shri K S G Haja Shareeff  1987\n",
      "30 Shri R P Goenka  1986\n",
      "31 Shri D N Patodia  1985\n",
      "32 Shri Ramakrishna Bajaj  1984\n",
      "33 Shri A K Jain  1983\n",
      "34 Dr (Cav) G K Devarajulu 1982\n",
      "35 Shri Arvind N Lalbhai  1981\n",
      "36 Dr K N Modi  1980\n",
      "37 Shri Hari Shankar Singhania  1979\n",
      "38 Shri Pravinchandra V Gandhi  1978\n",
      "39 Shri B P Poddar  1977\n",
      "40 Shri M V Arunachalam  1976\n",
      "41 Shri Harish Mahindra  1975\n",
      "42 Dr K K Birla  1974\n",
      "43 Dr Charat Ram  1973\n",
      "44 Shri Madanmohan Mangaldas 1972\n",
      "45 Shri S S Kanoria  1971\n",
      "46 Dr D C Kothari  1970\n",
      "47 Dr Ramnath A Podar  1969\n",
      "48 Rai Bahadur G M Modi  1968\n",
      "49 Shri L N Birla  1967\n",
      "50 Shri Ramanbhai B Amin 1966\n",
      "51 Shri S L Kirloskar  1965\n",
      "52 Shri K P Goenka  1964\n",
      "53 Dr Bharat Ram  1963\n",
      "54 Shri Shriyans Prasad Jain  1962\n",
      "55 Shri Karam Chand Thapar  1961\n",
      "56 Shri A M M Murugappa Chettiar  1960\n",
      "57 Shri Madanmohan R  Ruia  1959\n",
      "58 Sir B P Singh Roy  1958\n",
      "59 Shri Babubhai M Chinai  1957\n",
      "60 Shri Lakshmipat Singhania  1956\n",
      "61 Shri Shantilal Mangaldas  1955\n",
      "62 Shri B M Birla  1954\n",
      "63 Sir R G Saraiya  1953\n",
      "64 Shri Shanti Prasad Jain  1952\n",
      "65 Sir Tulsidas Kilachand  1950\n",
      "66 Shri K D Jalan  1949\n",
      "67 Shri Lalji Mehrotra  1948\n",
      "68 Shri M A Master  1947\n",
      "69 Shri Gurusharan Lall  1946\n",
      "70 Sir Badridas Goenka  1945\n",
      "71 Shri J C Setalvad  1944\n",
      "72 Dr Rajah Sir Muthiah Chettiar of Chettinad  1943\n",
      "73 Shri Gaganvihari L Mehta  1942\n",
      "74 Sir Chunilal B Mehta  1941\n",
      "75 Shri Amrit Lal Ojha  1940\n",
      "76 Dewan Bahadur C S Ratnasabapathi Mudaliar 1939\n",
      "77 Shri Jamshed N R Mehta  1938\n",
      "78 Sir Rahimtoola M Chinoy  1937\n",
      "79 Shri D P Khaitan  1936\n",
      "80 Sir Padampat Singhania  1935\n",
      "81 Shri Kasturbhai Lalbhai  1934\n",
      "82 Shri Nalini Ranjan Sarker  1933\n",
      "83 Shri. Walchand Hirachand  1932\n",
      "84 Shri M Jamal Mohammed Sahib  1931\n",
      "85 Sir Shri Ram  1930\n",
      "86 Shri G D Birla  1929\n",
      "87 Sir Purshotamdas Thakurdas 1928\n",
      "88 Mr Dinshaw M Petit  1927\n",
      "89 Shri C M Kothari  1951\n"
     ]
    }
   ],
   "source": [
    "for i,(name, year) in enumerate(zip(names,years)):\n",
    "    presidents.append([name.text,year.text])\n",
    "    print(i,name.text,year.text)"
   ]
  },
  {
   "cell_type": "code",
   "execution_count": 27,
   "metadata": {},
   "outputs": [],
   "source": [
    "ficciPresDf = pd.DataFrame(presidents, columns=['name', 'year-served'])"
   ]
  },
  {
   "cell_type": "code",
   "execution_count": 28,
   "metadata": {},
   "outputs": [],
   "source": [
    "ficciPresDf.to_csv('ficci.csv')"
   ]
  },
  {
   "cell_type": "code",
   "execution_count": null,
   "metadata": {},
   "outputs": [],
   "source": []
  }
 ],
 "metadata": {
  "kernelspec": {
   "display_name": "Python 3",
   "language": "python",
   "name": "python3"
  },
  "language_info": {
   "codemirror_mode": {
    "name": "ipython",
    "version": 3
   },
   "file_extension": ".py",
   "mimetype": "text/x-python",
   "name": "python",
   "nbconvert_exporter": "python",
   "pygments_lexer": "ipython3",
   "version": "3.6.4"
  }
 },
 "nbformat": 4,
 "nbformat_minor": 2
}
